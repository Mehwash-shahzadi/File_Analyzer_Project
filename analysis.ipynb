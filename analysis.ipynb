{
 "cells": [
  {
   "cell_type": "code",
   "execution_count": 1,
   "metadata": {},
   "outputs": [
    {
     "name": "stdout",
     "output_type": "stream",
     "text": [
      "Total_Lines : 12\n",
      "Total_Words : 145\n",
      "Total_Character : 842\n",
      "Special_Character : 29\n",
      "Unique_Words : 94\n",
      "common_words : and\n",
      "Longest_Word : understanding\n"
     ]
    }
   ],
   "source": [
    "def file_analysis(file_path):\n",
    "    with open(file_path,'r') as f:\n",
    "        data=f.read()\n",
    "        lines=data.split('\\n')\n",
    "\n",
    "        #words in data\n",
    "        lower_words=[]\n",
    "        words=data.split()\n",
    "        for word in words:\n",
    "            lower_words.append(word.lower())\n",
    "\n",
    "        #total character   \n",
    "        character=0\n",
    "        for i in words:\n",
    "            for j in i:\n",
    "                character+=1\n",
    "\n",
    "        #special character\n",
    "        special_character=0\n",
    "        for k in words:\n",
    "            for m in k :\n",
    "                if not m.isalnum():\n",
    "                    special_character+=1\n",
    "        #uniue words\n",
    "        unique_words=[]\n",
    "        for word in lower_words:\n",
    "            unique_words.append(word)\n",
    "\n",
    "        \n",
    "\n",
    "        #common words\n",
    "        def sort_dic(d):\n",
    "            return d[1]\n",
    "\n",
    "        common_dic={}\n",
    "        for l  in lower_words:\n",
    "            if l not in common_dic:\n",
    "                common_dic[l]=1\n",
    "            else:\n",
    "                common_dic[l]+=1\n",
    "        \n",
    "        common_words=sorted(common_dic.items(),key=sort_dic)\n",
    "            \n",
    "\n",
    "\n",
    "        #Longest word\n",
    "        longest_word=[]\n",
    "        for value in lower_words:\n",
    "            longest_word.append((len(value),value))\n",
    "        longest_word.sort()    \n",
    "\n",
    "    return {\n",
    "        'Total_Lines':len(lines),\n",
    "        'Total_Words':len(words),\n",
    "        'Total_Character':character,\n",
    "        'Special_Character':special_character,\n",
    "        'Unique_Words':len(set(unique_words)),\n",
    "        'common_words':common_words[-1][0],\n",
    "        'Longest_Word':longest_word[-1][1]\n",
    "    }\n",
    "    \n",
    "file_path=input('enter the file_path')\n",
    "result=file_analysis(file_path)\n",
    "for key,value in result.items():\n",
    "    print(f'{key} : {value}')"
   ]
  },
  {
   "cell_type": "code",
   "execution_count": null,
   "metadata": {},
   "outputs": [],
   "source": []
  }
 ],
 "metadata": {
  "kernelspec": {
   "display_name": "Python 3",
   "language": "python",
   "name": "python3"
  },
  "language_info": {
   "codemirror_mode": {
    "name": "ipython",
    "version": 3
   },
   "file_extension": ".py",
   "mimetype": "text/x-python",
   "name": "python",
   "nbconvert_exporter": "python",
   "pygments_lexer": "ipython3",
   "version": "3.8.8"
  }
 },
 "nbformat": 4,
 "nbformat_minor": 2
}
